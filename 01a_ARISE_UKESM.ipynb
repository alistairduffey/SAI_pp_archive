{
 "cells": [
  {
   "cell_type": "markdown",
   "id": "09e6ebdc-c62d-4b46-920a-ebad6dc894db",
   "metadata": {},
   "source": [
    "### postprocess arise \n",
    "\n",
    "Alistair Duffey, October 2024\n",
    "\n",
    "UKESM1\n",
    "\n",
    "N.B.: runs over the CEDA archive data structure "
   ]
  },
  {
   "cell_type": "code",
   "execution_count": 1,
   "id": "4c865bcb-d771-4432-8eb8-59fd74266781",
   "metadata": {},
   "outputs": [],
   "source": [
    "import os\n",
    "import glob\n",
    "import pandas as pd\n",
    "import numpy as np\n",
    "import xarray as xr\n",
    "from xmip.preprocessing import rename_cmip6\n",
    "import matplotlib\n",
    "import matplotlib.pyplot as plt\n",
    "from tqdm import tqdm\n",
    "\n",
    "### options\n",
    "\n",
    "# Model\n",
    "model = 'UKESM1-0-LL'\n",
    "\n",
    "# time-periods over which to take means\n",
    "assessment_periods = {'SAI':slice('2050', '2069'),\n",
    "                      'Background_warming':slice('2050', '2069'),\n",
    "                      'Baseline':slice('2014', '2033'),\n",
    "                      'Pre-industrial':slice('1850', '1900')}\n",
    "\n",
    "# ARISE ensemble_members. We also only use these same members for the baseline\n",
    "ens_mems = ['r1i1p1f2', 'r2i1p1f2', 'r3i1p1f2', 'r4i1p1f2', 'r8i1p1f2']\n",
    "\n",
    "\n",
    "# all the CMIP7 BCVs which are monthly and on a single level:\n",
    "# see markdown table below for details on variable meanings\n",
    "vars_dict = {\n",
    "             'prw':'Amon',\n",
    "             'evspsbl':'Amon',\n",
    "             'clivi':'Amon',\n",
    "             'clt':'Amon',\n",
    "             'clwvi':'Amon',\n",
    "             'hfss':'Amon',\n",
    "             'rlds':'Amon',\n",
    "             'rsldscs':'Amon',\n",
    "             'rlus':'Amon',\n",
    "             'rlut':'Amon',\n",
    "             'rlutcs':'Amon',\n",
    "             'rsds':'Amon',\n",
    "             'rsdscs':'Amon',\n",
    "             'rsdt':'Amon',\n",
    "             'rsus':'Amon',\n",
    "             'rsuscs':'Amon',\n",
    "             'rsut':'Amon',\n",
    "             'rsutcs':'Amon',\n",
    "             'pr':'Amon',\n",
    "             'tas':'Amon',\n",
    "             'uas':'Amon',\n",
    "             'vas':'Amon',\n",
    "             'hfls':'Amon',\n",
    "             'hurs':'Amon',\n",
    "             'huss':'Amon',\n",
    "             'prc':'Amon',\n",
    "             'prsn':'Amon',\n",
    "             'ps':'Amon',\n",
    "             'psl':'Amon',\n",
    "             'sfcWind':'Amon',\n",
    "             'tasmax':'Amon',\n",
    "             'tasmin':'Amon',\n",
    "             'tauu':'Amon',\n",
    "             'tauv':'Amon',\n",
    "             'ts':'Amon',\n",
    "             'evspsblsoi':'Lmon',\n",
    "             'lai':'Lmon',\n",
    "             'mrfso':'Lmon',\n",
    "             'mrro':'Lmon',\n",
    "             'mrros':'Lmon',\n",
    "             'mrso':'Lmon',\n",
    "             'mrsos':'Lmon',\n",
    "             'hfds':'Omon',\n",
    "             'mlotst':'Omon',\n",
    "             'sos':'Omon',\n",
    "             'tauuo':'Omon',\n",
    "             'tauvo':'Omon',\n",
    "             'tos':'Omon',\n",
    "             'zos':'Omon'\n",
    "            }\n",
    "\n",
    "\n",
    "# seasons\n",
    "seasons = ['DJF', 'MAM', 'JJA', 'SON']"
   ]
  },
  {
   "cell_type": "markdown",
   "id": "573ae6ae-b971-42c6-aec8-2ff57e18314f",
   "metadata": {},
   "source": [
    "Variables used are as follows:\n",
    "\n",
    "| Label          | Realm       | Title                                                    | Units       | Standard Name                                     |\n",
    "|----------------|-------------|----------------------------------------------------------|-------------|---------------------------------------------------|\n",
    "| Amon.prw       | Atmosphere  | Water Vapor Path                                         | kg m-2      | atmosphere_mass_content_of_water_vapor            |\n",
    "| Amon.evspsbl   | Land        | Evaporation Including Sublimation and Transpiration      | kg m-2 s-1  | water_evapotranspiration_flux                     |\n",
    "| Amon.clivi     | Atmosphere  | Ice Water Path                                           | kg m-2      | atmosphere_mass_content_of_cloud_ice              |\n",
    "| Amon.clt       | Atmosphere  | Total Cloud Cover Percentage                             | %           | cloud_area_fraction                               |\n",
    "| Amon.clwvi     | Atmosphere  | Condensed Water Path                                     | kg m-2      | atmosphere_mass_content_of_cloud_condensed_water  |\n",
    "| Amon.hfss      | Surface     | Surface Upward Sensible Heat Flux                        | W m-2       | surface_upward_sensible_heat_flux                 |\n",
    "| Amon.rlds      | Radiation   | Surface Downwelling Longwave Radiation                   | W m-2       | surface_downwelling_longwave_flux_in_air          |\n",
    "| Amon.rldscs    | Radiation   | Surface Downwelling Clear-Sky Longwave Radiation         | W m-2       | surface_downwelling_longwave_flux_in_air_assuming_clear_sky |\n",
    "| Amon.rlus      | Radiation   | Surface Upwelling Longwave Radiation                     | W m-2       | surface_upwelling_longwave_flux_in_air            |\n",
    "| Amon.rlut      | Radiation   | TOA Outgoing Longwave Radiation                          | W m-2       | toa_outgoing_longwave_flux                        |\n",
    "| Amon.rlutcs    | Radiation   | TOA Outgoing Clear-Sky Longwave Radiation                | W m-2       | toa_outgoing_longwave_flux_assuming_clear_sky     |\n",
    "| Amon.rsds      | Radiation   | Surface Downwelling Shortwave Radiation                  | W m-2       | surface_downwelling_shortwave_flux_in_air         |\n",
    "| Amon.rsdscs    | Radiation   | Surface Downwelling Clear-Sky Shortwave Radiation        | W m-2       | surface_downwelling_shortwave_flux_in_air_assuming_clear_sky |\n",
    "| Amon.rsdt      | Radiation   | TOA Incident Shortwave Radiation                         | W m-2       | toa_incoming_shortwave_flux                       |\n",
    "| Amon.rsus      | Radiation   | Surface Upwelling Shortwave Radiation                    | W m-2       | surface_upwelling_shortwave_flux_in_air           |\n",
    "| Amon.rsuscs    | Radiation   | Surface Upwelling Clear-Sky Shortwave Radiation          | W m-2       | surface_upwelling_shortwave_flux_in_air_assuming_clear_sky |\n",
    "| Amon.rsut      | Radiation   | TOA Outgoing Shortwave Radiation                         | W m-2       | toa_outgoing_shortwave_flux                       |\n",
    "| Amon.rsutcs    | Radiation   | TOA Outgoing Clear-Sky Shortwave Radiation               | W m-2       | toa_outgoing_shortwave_flux_assuming_clear_sky    |\n",
    "| Amon.pr        | Surface     | Precipitation                                            | kg m-2 s-1  | precipitation_flux                                |\n",
    "| Amon.tas       | Surface     | Near-Surface Air Temperature                             | K           | air_temperature                                   |\n",
    "| Amon.uas       | Surface     | Eastward Near-Surface Wind                               | m s-1       | eastward_wind                                     |\n",
    "| Amon.vas       | Surface     | Northward Near-Surface Wind                              | m s-1       | northward_wind                                    |\n",
    "| Amon.hfls      | Surface     | Surface Upward Latent Heat Flux                          | W m-2       | surface_upward_latent_heat_flux                   |\n",
    "| Amon.hurs      | Surface     | Near-Surface Relative Humidity                           | %           | relative_humidity                                 |\n",
    "| Amon.huss      | Surface     | Near-Surface Specific Humidity                           | 1           | specific_humidity                                 |\n",
    "| Amon.prc       | Surface     | Convective Precipitation                                 | kg m-2 s-1  | convective_precipitation_flux                     |\n",
    "| Amon.prsn      | Surface     | Snowfall Flux                                           | kg m-2 s-1  | snowfall_flux                                     |\n",
    "| Amon.ps        | Surface     | Surface Air Pressure                                    | Pa          | surface_air_pressure                              |\n",
    "| Amon.psl       | Surface     | Sea Level Pressure                                      | Pa          | air_pressure_at_mean_sea_level                    |\n",
    "| Amon.sfcWind   | Surface     | Near-Surface Wind Speed                                 | m s-1       | wind_speed                                        |\n",
    "| Amon.tasmax    | Surface     | Daily Maximum Near-Surface Air Temperature              | K           | air_temperature                                   |\n",
    "| Amon.tasmin    | Surface     | Daily Minimum Near-Surface Air Temperature              | K           | air_temperature                                   |\n",
    "| Amon.tauu      | Surface     | Surface Downward Eastward Wind Stress                   | Pa          | surface_downward_eastward_stress                  |\n",
    "| Amon.tauv      | Surface     | Surface Downward Northward Wind Stress                  | Pa          | surface_downward_northward_stress                 |\n",
    "| Amon.ts        | Surface     | Surface Temperature                                     | K           | surface_temperature                               |\n",
    "| Lmon.evspsblsoi| Land        | Water Evaporation from Soil                             | kg m-2 s-1  | water_evaporation_flux_from_soil                  |\n",
    "| Lmon.lai       | Land        | Leaf Area Index                                         | 1           | leaf_area_index                                   |\n",
    "| Lmon.mrfso     | Land        | Soil Frozen Water Content                               | kg m-2      | soil_frozen_water_content                         |\n",
    "| Lmon.mrro      | Land        | Total Runoff                                            | kg m-2 s-1  | runoff_flux                                       |\n",
    "| Lmon.mrros     | Land        | Surface Runoff                                          | kg m-2 s-1  | surface_runoff_flux                               |\n",
    "| Lmon.mrso      | Land        | Total Soil Moisture Content                             | kg m-2      | mass_content_of_water_in_soil                     |\n",
    "| Lmon.mrsos     | Land        | Moisture in Upper Portion of Soil Column                | kg m-2      | mass_content_of_water_in_soil_layer               |\n",
    "| Omon.hfds      | Ocean       | Downward Heat Flux at Sea Water Surface                 | W m-2       | surface_downward_heat_flux_in_sea_water           |\n",
    "| Omon.mlotst    | Ocean       | Ocean Mixed Layer Thickness Defined by Sigma T          | m           | ocean_mixed_layer_thickness_defined_by_sigma_t    |\n",
    "| Omon.sos       | Ocean       | Sea Surface Salinity                                    | 0.001       | sea_surface_salinity                              |\n",
    "| Omon.tauuo     | Ocean       | Sea Water Surface Downward X Stress                     | N m-2       | downward_x_stress_at_sea_water_surface            |\n",
    "| Omon.tauvo     | Ocean       | Sea Water Surface Downward Y Stress                     | N m-2       | downward_y_stress_at_sea_water_surface            |\n",
    "| Omon.tos       | Ocean       | Sea Surface Temperature                                 | degC        | sea_surface_temperature                           |\n",
    "| Omon.zos       | Ocean       | Sea Surface Height Above Geoid                          | m           | sea_surface_height_above_geoid                    |\n"
   ]
  },
  {
   "cell_type": "code",
   "execution_count": 2,
   "id": "1f5fb8ff-f859-4201-a45e-7f5cfe189723",
   "metadata": {},
   "outputs": [],
   "source": [
    "### get historical-SSP2-4.5 and combine along the time dimension\n",
    "\n",
    "def get_historical_ssp245_ds(variable, table='Amon'):\n",
    "    \"\"\" gets historical and SSP2-4.5 and combine along the time dimension\n",
    "        returns dataset with 5 members, each running over the historical \n",
    "        1850-2014 and ssp245 2015-2100 \"\"\"\n",
    "    \n",
    "    ds_list = []\n",
    "    for es in ens_mems:\n",
    "        path = '/badc/cmip6/data/CMIP6/ScenarioMIP/MOHC/UKESM1-0-LL/ssp245/{e}/{t}/{v}/*/latest/'.format(e=es, t=table,v=variable)\n",
    "        ds = rename_cmip6(xr.open_mfdataset(path+'*.nc'))\n",
    "        \n",
    "        path_hist = glob.glob('/badc/cmip6/data/CMIP6/*/*/UKESM1-0-LL/historical/{e}/{t}/{v}/*/latest/'.format(\n",
    "        t=table, v=variable, e=es))[0]\n",
    "        ds_hist = rename_cmip6(xr.open_mfdataset(path_hist+'*.nc'))    \n",
    "        ds = xr.concat([ds_hist, ds], dim='time')\n",
    "        if 'height' in ds.variables:\n",
    "            ds = ds.drop_vars('height')\n",
    "        if 'type' in ds.variables:\n",
    "            ds = ds.drop_vars('type')\n",
    "        ds_list.append(ds)\n",
    "    \n",
    "    DS = xr.concat(ds_list, dim='Ensemble_member')\n",
    "    return DS\n",
    "\n",
    "## for ARISE\n",
    "def get_ARISE_UKESM(variable='tas', table='Amon'):\n",
    "    ds_list = []\n",
    "    paths = glob.glob('/badc/deposited2022/arise/data/ARISE/MOHC/UKESM1-0-LL/arise-sai-1p5/*/{t}/{v}/*/*/'.format(\n",
    "    t=table, v=variable))\n",
    "    for path in paths:\n",
    "        ds = rename_cmip6(xr.open_mfdataset(path+'*.nc'))\n",
    "        if 'height' in ds.variables:\n",
    "            ds = ds.drop_vars('height')\n",
    "        if 'type' in ds.variables:\n",
    "            ds = ds.drop_vars('type')\n",
    "        ds_list.append(ds)\n",
    "    DS = xr.concat(ds_list, dim='Ensemble_member')\n",
    "    return DS\n",
    "\n",
    "def get_time_period(ds, slice_label):\n",
    "    ds_out = ds.sel(time=assessment_periods[slice_label])\n",
    "    ds_out.attrs['t_bnds'] = str(assessment_periods[slice_label].start+'_'+assessment_periods[slice_label].stop)\n",
    "    return ds_out"
   ]
  },
  {
   "cell_type": "code",
   "execution_count": 5,
   "id": "9cd167c0-3fb3-47f5-b1ad-7b5229f9ee11",
   "metadata": {},
   "outputs": [],
   "source": [
    "def process_and_save_maps(ds, ds_seasonal, var, table, label, seasons=seasons):\n",
    "    \"\"\" \n",
    "    Inputs\n",
    "    ds: a time resolved, quarterly resampled, spatial dataset, with an ensemble_member dimension\n",
    "    label: 'SSP245_baseline', 'ARISE', or 'SSP245_background'. Defines naming of outputs. \n",
    "    \n",
    "    Function saves the mean and standard deviation across the whole time+ens_mems combined dimension\n",
    "    \"\"\"\n",
    "    path = 'pp_archive/ARISE/UKESM1-0-LL/maps/{l}/{t}/{v}/'.format(l=label, t=table, v=var)\n",
    "    os.makedirs(path+'/std/', exist_ok=True)\n",
    "    os.makedirs(path+'/mean/', exist_ok=True)\n",
    "    \n",
    "    t_bnds = ds_seasonal.t_bnds\n",
    "    for season in seasons:\n",
    "        ds_season = ds_seasonal.where(ds_seasonal.time.dt.season == season, drop=True)\n",
    "        std = ds_season.std(dim=['time', 'Ensemble_member'])\n",
    "        mean = ds_season.mean(dim=['time', 'Ensemble_member'])\n",
    "        \n",
    "        std.to_netcdf(path + '/std/' +'{v}_{l}_{s}_{t}_std.nc'.format(v=var, l=label, s=season, t=t_bnds))\n",
    "        mean.to_netcdf(path + '/mean/' + '{v}_{l}_{s}_{t}_mean.nc'.format(v=var, l=label, s=season, t=t_bnds))\n",
    "\n",
    "    t_bnds = ds.t_bnds\n",
    "    # repeat for the annual mean:\n",
    "    std = ds.std(dim=['time', 'Ensemble_member'])\n",
    "    mean = ds.mean(dim=['time', 'Ensemble_member'])\n",
    "    \n",
    "    std.to_netcdf(path + '/std/' + '{v}_{l}_annual_{t}_std.nc'.format(v=var, l=label, t=t_bnds))\n",
    "    mean.to_netcdf(path + '/mean/' + '{v}_{l}_annual_{t}_mean.nc'.format(v=var, l=label, t=t_bnds))\n",
    "    return"
   ]
  },
  {
   "cell_type": "code",
   "execution_count": null,
   "id": "465f865f-2090-45af-8743-051d40a3e63b",
   "metadata": {},
   "outputs": [
    {
     "name": "stderr",
     "output_type": "stream",
     "text": [
      "  0%|          | 0/49 [00:00<?, ?it/s]"
     ]
    },
    {
     "name": "stdout",
     "output_type": "stream",
     "text": [
      "prw\n"
     ]
    },
    {
     "name": "stderr",
     "output_type": "stream",
     "text": [
      "  2%|▏         | 1/49 [01:20<1:04:33, 80.70s/it]"
     ]
    },
    {
     "name": "stdout",
     "output_type": "stream",
     "text": [
      "evspsbl\n"
     ]
    },
    {
     "name": "stderr",
     "output_type": "stream",
     "text": [
      "  4%|▍         | 2/49 [02:54<1:09:12, 88.36s/it]"
     ]
    },
    {
     "name": "stdout",
     "output_type": "stream",
     "text": [
      "clivi\n"
     ]
    },
    {
     "name": "stderr",
     "output_type": "stream",
     "text": [
      "  6%|▌         | 3/49 [04:19<1:06:42, 87.02s/it]"
     ]
    },
    {
     "name": "stdout",
     "output_type": "stream",
     "text": [
      "clt\n"
     ]
    },
    {
     "name": "stderr",
     "output_type": "stream",
     "text": [
      "  8%|▊         | 4/49 [06:01<1:09:33, 92.75s/it]"
     ]
    },
    {
     "name": "stdout",
     "output_type": "stream",
     "text": [
      "clwvi\n"
     ]
    },
    {
     "name": "stderr",
     "output_type": "stream",
     "text": [
      " 10%|█         | 5/49 [07:27<1:06:18, 90.43s/it]"
     ]
    },
    {
     "name": "stdout",
     "output_type": "stream",
     "text": [
      "hfss\n"
     ]
    },
    {
     "name": "stderr",
     "output_type": "stream",
     "text": [
      " 12%|█▏        | 6/49 [09:00<1:05:25, 91.29s/it]"
     ]
    },
    {
     "name": "stdout",
     "output_type": "stream",
     "text": [
      "rlds\n"
     ]
    }
   ],
   "source": [
    "# MAIN\n",
    "\n",
    "for var in tqdm(vars_dict.keys()):\n",
    "\n",
    "    print(var)\n",
    "    # get data\n",
    "    ds_ssp = get_historical_ssp245_ds(var, table=vars_dict[var])\n",
    "    ds_arise = get_ARISE_UKESM(var, table=vars_dict[var])\n",
    "    ds_ssp_seasonal = ds_ssp.resample(time=\"QS-DEC\").mean()\n",
    "    ds_arise_seasonal = ds_arise.resample(time=\"QS-DEC\").mean()\n",
    "\n",
    "    # process into time slice means:\n",
    "    ssp_baseline, ssp_baseline_seasonal = get_time_period(ds_ssp, 'Baseline'), get_time_period(ds_ssp_seasonal, 'Baseline')\n",
    "    ssp_background, ssp_background_seasonal = get_time_period(ds_ssp, 'Background_warming'), get_time_period(ds_ssp_seasonal, 'Background_warming')\n",
    "    arise_assmt, arise_assmt_seasonal = get_time_period(ds_arise, 'SAI'), get_time_period(ds_arise_seasonal, 'SAI')\n",
    "\n",
    "    process_and_save_maps(ssp_baseline, ssp_baseline_seasonal, \n",
    "                 var=var, table=vars_dict[var], \n",
    "                 label='SSP245_baseline', seasons=seasons)\n",
    "    process_and_save_maps(ssp_background, ssp_background_seasonal, \n",
    "                     var=var, table=vars_dict[var], \n",
    "                     label='SSP245_background', seasons=seasons)\n",
    "    process_and_save_maps(arise_assmt, arise_assmt_seasonal, \n",
    "                     var=var, table=vars_dict[var], \n",
    "                     label='ARISE_assmt', seasons=seasons)\n"
   ]
  },
  {
   "cell_type": "code",
   "execution_count": null,
   "id": "1071de9d-a464-443e-b4e8-c83636381294",
   "metadata": {},
   "outputs": [],
   "source": []
  },
  {
   "cell_type": "code",
   "execution_count": null,
   "id": "6eeaffc7-3cf8-4b38-8f02-ba824136d0b5",
   "metadata": {},
   "outputs": [],
   "source": []
  },
  {
   "cell_type": "code",
   "execution_count": null,
   "id": "96026642-b123-485b-bbbd-458675b6bcc0",
   "metadata": {},
   "outputs": [],
   "source": []
  },
  {
   "cell_type": "code",
   "execution_count": null,
   "id": "5dddd46d-ae0b-46d7-9f1d-e3e1e230a7d7",
   "metadata": {},
   "outputs": [],
   "source": []
  },
  {
   "cell_type": "code",
   "execution_count": null,
   "id": "77067d39-98e3-4f7f-8550-080cbb00af59",
   "metadata": {},
   "outputs": [],
   "source": []
  },
  {
   "cell_type": "code",
   "execution_count": null,
   "id": "1882fdee-04ea-4250-b300-9ccb86f23c16",
   "metadata": {},
   "outputs": [],
   "source": []
  },
  {
   "cell_type": "code",
   "execution_count": null,
   "id": "d1623853-c7b9-475b-81b7-b5c1f085bf59",
   "metadata": {},
   "outputs": [],
   "source": []
  }
 ],
 "metadata": {
  "kernelspec": {
   "display_name": "cmipv2",
   "language": "python",
   "name": "cmipv2"
  },
  "language_info": {
   "codemirror_mode": {
    "name": "ipython",
    "version": 3
   },
   "file_extension": ".py",
   "mimetype": "text/x-python",
   "name": "python",
   "nbconvert_exporter": "python",
   "pygments_lexer": "ipython3",
   "version": "3.12.6"
  }
 },
 "nbformat": 4,
 "nbformat_minor": 5
}
