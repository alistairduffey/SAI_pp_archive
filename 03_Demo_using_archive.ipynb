{
 "cells": [
  {
   "cell_type": "markdown",
   "id": "f22eb5a2-71c1-4158-a41f-e3065583e66b",
   "metadata": {},
   "source": [
    "### demo using the pp_archive\n",
    "\n",
    "To show an example of one potential usage, here we produce a figure showing for each IPCC region, what % of variables are offset (i.e. one pie chart per IPCC region, with a gray slice for variables which models don't agree on?)\n"
   ]
  },
  {
   "cell_type": "code",
   "execution_count": 4,
   "id": "6e3f891a-d1ff-41bc-9d2d-626ebb6eb5e0",
   "metadata": {},
   "outputs": [],
   "source": [
    "import os\n",
    "import glob\n",
    "import pandas as pd\n",
    "import numpy as np\n",
    "import xarray as xr\n",
    "from xmip.preprocessing import rename_cmip6\n",
    "import matplotlib\n",
    "import matplotlib.pyplot as plt\n",
    "from tqdm import tqdm"
   ]
  },
  {
   "cell_type": "code",
   "execution_count": null,
   "id": "cbdcea9c-aded-459b-8966-9f0a863274b4",
   "metadata": {},
   "outputs": [],
   "source": []
  },
  {
   "cell_type": "code",
   "execution_count": null,
   "id": "2cde0bb3-3d3a-42d3-8e5c-e119b2b211bc",
   "metadata": {},
   "outputs": [],
   "source": []
  },
  {
   "cell_type": "code",
   "execution_count": null,
   "id": "c9c39afe-cb6a-4214-b4d9-14912cdaaa8b",
   "metadata": {},
   "outputs": [],
   "source": []
  },
  {
   "cell_type": "code",
   "execution_count": null,
   "id": "922f6f4a-8410-43a3-ba7f-019bd51baf2a",
   "metadata": {},
   "outputs": [],
   "source": []
  },
  {
   "cell_type": "code",
   "execution_count": null,
   "id": "12b56b02-e228-4560-841a-b66f560dc38e",
   "metadata": {},
   "outputs": [],
   "source": []
  }
 ],
 "metadata": {
  "kernelspec": {
   "display_name": "cmipv2",
   "language": "python",
   "name": "cmipv2"
  },
  "language_info": {
   "codemirror_mode": {
    "name": "ipython",
    "version": 3
   },
   "file_extension": ".py",
   "mimetype": "text/x-python",
   "name": "python",
   "nbconvert_exporter": "python",
   "pygments_lexer": "ipython3",
   "version": "3.12.6"
  }
 },
 "nbformat": 4,
 "nbformat_minor": 5
}
