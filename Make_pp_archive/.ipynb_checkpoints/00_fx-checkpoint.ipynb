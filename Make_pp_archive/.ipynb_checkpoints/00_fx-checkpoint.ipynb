{
 "cells": [
  {
   "cell_type": "code",
   "execution_count": 31,
   "id": "10449615-1257-41ef-9a57-b42d16a993bb",
   "metadata": {},
   "outputs": [],
   "source": [
    "### save land fraction data (sftlf) for each model into archive dir\n",
    "import os\n",
    "import xarray as xr\n",
    "import glob\n",
    "from xmip.preprocessing import rename_cmip6\n"
   ]
  },
  {
   "cell_type": "code",
   "execution_count": 32,
   "id": "e8bd64b8-362f-45ba-875b-79279843817e",
   "metadata": {},
   "outputs": [],
   "source": [
    "models = ['IPSL-CM6A-LR', 'UKESM1-0-LL', 'MPI-ESM1-2-HR', 'MPI-ESM1-2-LR', 'CESM2-WACCM', 'CNRM-ESM2-1']\n"
   ]
  },
  {
   "cell_type": "code",
   "execution_count": 42,
   "id": "31bd49f0-487a-4873-b77d-656aba691261",
   "metadata": {},
   "outputs": [
    {
     "name": "stderr",
     "output_type": "stream",
     "text": [
      "/home/users/a_duffey/.conda/envs/cmipv2/lib/python3.12/site-packages/xarray/conventions.py:284: SerializationWarning: variable 'sftlf' has multiple fill values {np.float32(1e+20), np.float64(1e+20)} defined, decoding all values to NaN.\n",
      "  var = coder.decode(var, name=name)\n"
     ]
    }
   ],
   "source": [
    "for model in models:\n",
    "    path = '/badc/cmip6/data/CMIP6/CMIP/*/{}/piControl/r1i*/fx/sftlf/*/latest/'.format(model)\n",
    "    directory = glob.glob(path)[0]\n",
    "    sftlf = rename_cmip6(xr.open_dataset(directory+os.listdir(directory)[0]))\n",
    "    path = '../pp_archive/fx/{}'.format(model)\n",
    "    os.makedirs(path, exist_ok=True)\n",
    "    sftlf.to_netcdf(path+'/{}_sftlf.nc'.format(model))"
   ]
  },
  {
   "cell_type": "code",
   "execution_count": null,
   "id": "81a8d477-c5fe-4cdf-a2ba-77de110f8174",
   "metadata": {},
   "outputs": [],
   "source": []
  },
  {
   "cell_type": "code",
   "execution_count": null,
   "id": "5d912096-af88-4aab-abea-d4779f5b8d37",
   "metadata": {},
   "outputs": [],
   "source": []
  },
  {
   "cell_type": "code",
   "execution_count": null,
   "id": "6f3363df-7e3f-45bd-a1fe-cf012423ced9",
   "metadata": {},
   "outputs": [],
   "source": []
  }
 ],
 "metadata": {
  "kernelspec": {
   "display_name": "cmipv2",
   "language": "python",
   "name": "cmipv2"
  },
  "language_info": {
   "codemirror_mode": {
    "name": "ipython",
    "version": 3
   },
   "file_extension": ".py",
   "mimetype": "text/x-python",
   "name": "python",
   "nbconvert_exporter": "python",
   "pygments_lexer": "ipython3",
   "version": "3.12.6"
  }
 },
 "nbformat": 4,
 "nbformat_minor": 5
}
