{
 "cells": [
  {
   "cell_type": "markdown",
   "id": "debe7949-dcd8-4fe1-87d6-f909551cb7b7",
   "metadata": {},
   "source": [
    "A short script which makes a copy of the 6 GeoMIP model's land fraction data inside the pp_archive, since this is used in the demos. \n",
    "\n"
   ]
  },
  {
   "cell_type": "code",
   "execution_count": 25,
   "id": "10449615-1257-41ef-9a57-b42d16a993bb",
   "metadata": {},
   "outputs": [
    {
     "name": "stderr",
     "output_type": "stream",
     "text": [
      "/home/users/a_duffey/.conda/envs/cmipv2/lib/python3.12/site-packages/xarray/conventions.py:284: SerializationWarning: variable 'sftlf' has multiple fill values {np.float32(1e+20), np.float64(1e+20)} defined, decoding all values to NaN.\n",
      "  var = coder.decode(var, name=name)\n"
     ]
    }
   ],
   "source": [
    "import os\n",
    "import xarray as xr\n",
    "import glob\n",
    "from xmip.preprocessing import rename_cmip6\n",
    "\n",
    "models = ['IPSL-CM6A-LR', 'UKESM1-0-LL', 'MPI-ESM1-2-HR', 'MPI-ESM1-2-LR', 'CESM2-WACCM', 'CNRM-ESM2-1']\n",
    "var = 'sftlf'\n",
    "for model in models:\n",
    "    path = '/badc/cmip6/data/CMIP6/CMIP/*/{m}/piControl/r1i*/fx/{v}/*/latest/'.format(m=model, v=var)\n",
    "    directory = glob.glob(path)[0]\n",
    "    sftlf = rename_cmip6(xr.open_dataset(directory+os.listdir(directory)[0]))\n",
    "    path = '../pp_archive/fx/{m}/{v}'.format(m=model, v=var)\n",
    "    os.makedirs(path, exist_ok=True)\n",
    "    sftlf.to_netcdf(path+'/{m}_{v}.nc'.format(m=model, v=var))"
   ]
  },
  {
   "cell_type": "code",
   "execution_count": null,
   "id": "68e5036a-7af1-4b89-803f-e83a56ddf8fb",
   "metadata": {},
   "outputs": [],
   "source": []
  }
 ],
 "metadata": {
  "kernelspec": {
   "display_name": "cmipv2",
   "language": "python",
   "name": "cmipv2"
  },
  "language_info": {
   "codemirror_mode": {
    "name": "ipython",
    "version": 3
   },
   "file_extension": ".py",
   "mimetype": "text/x-python",
   "name": "python",
   "nbconvert_exporter": "python",
   "pygments_lexer": "ipython3",
   "version": "3.12.6"
  }
 },
 "nbformat": 4,
 "nbformat_minor": 5
}
