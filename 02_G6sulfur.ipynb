{
 "cells": [
  {
   "cell_type": "markdown",
   "id": "43dfcc15-2002-4cdb-8489-5d60e9328594",
   "metadata": {},
   "source": [
    "### postprocess GeoMIP\n",
    "\n",
    "Alistair Duffey, october 2024\n",
    "\n",
    "All models with G6sulfur runs\n",
    "\n",
    "N.B.: runs over the CEDA archive data structure \n",
    "\n",
    "\n",
    "N.B: MIP-ESM1-2-HR: no SSP245/585 runs of the r3 ensemble member, so only keep two. "
   ]
  },
  {
   "cell_type": "markdown",
   "id": "2a4fdd8e-457f-4d73-815b-8b6cc0c53f8f",
   "metadata": {},
   "source": [
    "### Known bugs to fix\n",
    "\n",
    "We don't account for different calendars yet - to add\n"
   ]
  },
  {
   "cell_type": "code",
   "execution_count": 1,
   "id": "3e290a7b-3433-4d4b-b1de-2a98b000ac0b",
   "metadata": {},
   "outputs": [],
   "source": [
    "import os\n",
    "import glob\n",
    "import pandas as pd\n",
    "import numpy as np\n",
    "import xarray as xr\n",
    "from xmip.preprocessing import rename_cmip6\n",
    "import matplotlib\n",
    "import matplotlib.pyplot as plt\n",
    "from tqdm import tqdm"
   ]
  },
  {
   "cell_type": "code",
   "execution_count": 2,
   "id": "776f51da-eaf6-4535-9768-5b9252a17667",
   "metadata": {},
   "outputs": [],
   "source": [
    "models = ['IPSL-CM6A-LR', 'UKESM1-0-LL', 'MPI-ESM1-2-HR', 'MPI-ESM1-2-LR', 'CESM2-WACCM', 'CNRM-ESM2-1']\n",
    "\n",
    "scenarios = ['G6sulfur', 'ssp245', 'ssp585']\n",
    "\n",
    "scenario_types = {'G6sulfur':'GeoMIP',\n",
    "                  'ssp245':'ScenarioMIP',\n",
    "                  'ssp585':'ScenarioMIP'}\n",
    "\n",
    "\n",
    "# time-periods over which to take means\n",
    "assessment_periods = {'Future':slice('2080', '2099'),\n",
    "                      'Baseline':slice('2015', '2034')}\n",
    "\n",
    "## we don't use ensemble member inputs here - instead search over available members in each case\n",
    "\n",
    "# note that we only use a member when that same label is also there for the ssps - this isn't ideal. #To improve\n",
    "\n",
    "ensemble_members = {\n",
    "                    'IPSL-CM6A-LR':['r1i1p1f1'],\n",
    "                    'UKESM1-0-LL':['r1i1p1f2', 'r4i1p1f2', 'r8i1p1f2'],\n",
    "                    'MPI-ESM1-2-HR':['r1i1p1f1', 'r2i1p1f1'],#, 'r3i1p1f1'],\n",
    "                    'MPI-ESM1-2-LR':['r1i1p1f1', 'r2i1p1f1', 'r3i1p1f1'],\n",
    "                    'CESM2-WACCM':['r1i1p1f2', 'r2i1p1f2'],\n",
    "                    'CNRM-ESM2-1':['r1i1p1f2', 'r2i1p1f2', 'r3i1p1f2']\n",
    "                    }\n",
    "\n",
    "\n",
    "## for cesm2, exclude some G6 files, because the archive has overlapping time data\n",
    "excluded_files = ['tas_Amon_CESM2-WACCM_G6sulfur_r1i1p1f2_gn_202001-206912.nc',\n",
    "                  'tas_Amon_CESM2-WACCM_G6sulfur_r2i1p1f2_gn_201501-206412.nc',\n",
    "                  'tas_Amon_CESM2-WACCM_G6sulfur_r2i1p1f2_gn_206501-210012.nc',\n",
    "                  'tas_Amon_CESM2-WACCM_G6sulfur_r1i1p1f2_gn_207001-210012.nc']"
   ]
  },
  {
   "cell_type": "markdown",
   "id": "9fef7652-bafd-42bd-b6d9-d0083be38e6f",
   "metadata": {},
   "source": [
    "#### output structure \n",
    "pp_archive/GeoMIP/model/scenario/ensemble_member/maps/table/variable/file.nc\n",
    "\n",
    "because the number of members varies between 1 and a few, it doesn't make sense to save ensemble means and stds, instead save outputs for each member individually.\n",
    "\n",
    "2nd Dec 2024: i changed my mind on this, for comparison with arise, i will keep this as ens mean and std, but just also saving the number of members. "
   ]
  },
  {
   "cell_type": "code",
   "execution_count": null,
   "id": "f7341775-9c5a-49e8-80e5-54d4325a9017",
   "metadata": {},
   "outputs": [],
   "source": []
  },
  {
   "cell_type": "code",
   "execution_count": 3,
   "id": "d1f11aa7-4e1e-4589-b6c9-4675eb3d0250",
   "metadata": {},
   "outputs": [],
   "source": [
    "# all the CMIP7 BCVs which are monthly and on a single level:\n",
    "# see markdown table below for details on variable meanings\n",
    "vars_dict = {\n",
    "             'prw':'Amon',\n",
    "             'evspsbl':'Amon',\n",
    "             'clivi':'Amon',\n",
    "             'clt':'Amon',\n",
    "             'clwvi':'Amon',\n",
    "             'hfss':'Amon',\n",
    "             'rlds':'Amon',\n",
    "             'rsldscs':'Amon',\n",
    "             'rlus':'Amon',\n",
    "             'rlut':'Amon',\n",
    "             'rlutcs':'Amon',\n",
    "             'rsds':'Amon',\n",
    "             'rsdscs':'Amon',\n",
    "             'rsdt':'Amon',\n",
    "             'rsus':'Amon',\n",
    "             'rsuscs':'Amon',\n",
    "             'rsut':'Amon',\n",
    "             'rsutcs':'Amon',\n",
    "             'pr':'Amon',\n",
    "             'tas':'Amon',\n",
    "             'uas':'Amon',\n",
    "             'vas':'Amon',\n",
    "             'hfls':'Amon',\n",
    "             'hurs':'Amon',\n",
    "             'huss':'Amon',\n",
    "             'prc':'Amon',\n",
    "             'prsn':'Amon',\n",
    "             'ps':'Amon',\n",
    "             'psl':'Amon',\n",
    "             'sfcWind':'Amon',\n",
    "             'tasmax':'Amon',\n",
    "             'tasmin':'Amon',\n",
    "             'tauu':'Amon',\n",
    "             'tauv':'Amon',\n",
    "             'ts':'Amon',\n",
    "             'evspsblsoi':'Lmon',\n",
    "             'lai':'Lmon',\n",
    "             'mrfso':'Lmon',\n",
    "             'mrro':'Lmon',\n",
    "             'mrros':'Lmon',\n",
    "             'mrso':'Lmon',\n",
    "             'mrsos':'Lmon',\n",
    "             'hfds':'Omon',\n",
    "             'mlotst':'Omon',\n",
    "             'sos':'Omon',\n",
    "             'tauuo':'Omon',\n",
    "             'tauvo':'Omon',\n",
    "             'tos':'Omon',\n",
    "             'zos':'Omon'\n",
    "            }\n",
    "\n",
    "vars_dict = {\n",
    "             'tas':'Amon',\n",
    "            }\n",
    "## see 01a for meanings of variables\n",
    "\n",
    "# seasons\n",
    "seasons = ['DJF', 'MAM', 'JJA', 'SON']"
   ]
  },
  {
   "cell_type": "code",
   "execution_count": null,
   "id": "837e5751-f159-4270-97fd-a8334c860ed3",
   "metadata": {},
   "outputs": [],
   "source": []
  },
  {
   "cell_type": "code",
   "execution_count": null,
   "id": "0075901e-50d3-4a5a-a46f-80f230468cc9",
   "metadata": {},
   "outputs": [],
   "source": []
  },
  {
   "cell_type": "code",
   "execution_count": 4,
   "id": "ceed467f-84a5-4c6d-b005-27b555a4762d",
   "metadata": {},
   "outputs": [],
   "source": [
    "### get data\n",
    "\n",
    "def get_data_ssp_G6(model, scenario, variable, table):\n",
    "    root = '/badc/cmip6/data/CMIP6/' # CEDA archive root\n",
    "    \n",
    "    ens_mems_mod = ensemble_members[model]\n",
    "    ds_list = []\n",
    "    \n",
    "    for es in ens_mems_mod:\n",
    "        \n",
    "        ##############################################################\n",
    "        ## following lines are a hack to get around the fact that CESM2 \n",
    "        ## has f1 variants for ssps, and f2 variants for geoMIP\n",
    "        if model == 'CESM2-WACCM':\n",
    "            if scenario != 'G6sulfur':\n",
    "                es = es.replace('p1f2', 'p1f1')\n",
    "        ############################################################\n",
    "        directory = root + '*/*/{m}/{s}/{e}/{t}/{v}/*/latest/'.format(m=model, s=scenario, t=table, v=variable, e=es)\n",
    "        try: \n",
    "            path = glob.glob(directory)[0]\n",
    "            ds = rename_cmip6(xr.open_mfdataset(path+'*.nc', use_cftime=True))\n",
    "        except:\n",
    "            if model == 'CESM2-WACCM':\n",
    "                if scenario == 'G6sulfur':\n",
    "                    files = []\n",
    "                    for x in os.listdir(glob.glob(directory)[0]):\n",
    "                        files.append(glob.glob(directory)[0] + x)\n",
    "                    # drop extraneous data from cesm G6sulfur runs:\n",
    "                    for file in excluded_files:\n",
    "                        files = [s for s in files if not file in s]\n",
    "                    ds = rename_cmip6(xr.open_mfdataset(files, use_cftime=True))\n",
    "                        \n",
    "        \n",
    "        if 'height' in ds.variables:\n",
    "            ds = ds.drop_vars('height')\n",
    "        if 'type' in ds.variables:\n",
    "            ds = ds.drop_vars('type')\n",
    "            \n",
    "        ## rename \n",
    "        ds_list.append(ds)\n",
    "    \n",
    "    DS = xr.concat(ds_list, dim='Ensemble_member')\n",
    "    return DS\n",
    "\n",
    "def get_time_period(ds, slice_label):\n",
    "    ds_out = ds.sel(time=assessment_periods[slice_label])\n",
    "    ds_out.attrs['t_bnds'] = str(assessment_periods[slice_label].start+'_'+assessment_periods[slice_label].stop)\n",
    "    return ds_out"
   ]
  },
  {
   "cell_type": "code",
   "execution_count": null,
   "id": "4b67ce8f-a154-4fcb-b8e7-2b5b7593acf3",
   "metadata": {},
   "outputs": [],
   "source": []
  },
  {
   "cell_type": "code",
   "execution_count": null,
   "id": "3bef8fbb-4a2d-4ef7-a4ca-a60cc8cc02c3",
   "metadata": {},
   "outputs": [],
   "source": []
  },
  {
   "cell_type": "code",
   "execution_count": null,
   "id": "65d60d8a-747a-4b34-9fb2-d5c418e61742",
   "metadata": {},
   "outputs": [],
   "source": []
  },
  {
   "cell_type": "code",
   "execution_count": 5,
   "id": "d94af802-efb5-4860-bb80-c22249ea5675",
   "metadata": {},
   "outputs": [],
   "source": [
    "def process_and_save_maps(ds, ds_seasonal, \n",
    "                          var, table, \n",
    "                          label, seasons=seasons):\n",
    "    \"\"\" \n",
    "    Inputs\n",
    "    ds: a time resolved, quarterly resampled, spatial dataset, with an ensemble_member dimension\n",
    "    label: 'SSP245_baseline', 'G6sulfur', 'SSP245_target', 'SSP585_target'. Defines naming of outputs. \n",
    "    \n",
    "    Function saves the mean and time standard deviation for each ens_mems\n",
    "    \"\"\"\n",
    "    \n",
    "    outpath = 'pp_archive/GeoMIP/{m}/maps/{l}/{t}/{v}/'.format(m=model, l=label, \n",
    "                                                               t=table, v=var)\n",
    "    \n",
    "    os.makedirs(outpath+'/std/', exist_ok=True)\n",
    "    os.makedirs(outpath+'/mean/', exist_ok=True)\n",
    "    \n",
    "    t_bnds = ds_seasonal.t_bnds\n",
    "    for season in seasons:\n",
    "        ds_season = ds_seasonal.where(ds_seasonal.time.dt.season == season, drop=True)\n",
    "        ds_season['N_members'] = len(ds_season.Ensemble_member.values)\n",
    "        std = ds_season.std(dim=['time', 'Ensemble_member'])\n",
    "        mean = ds_season.mean(dim=['time', 'Ensemble_member'])\n",
    "        \n",
    "        std.to_netcdf(outpath + '/std/' +'{v}_{l}_{s}_{t}_std.nc'.format(v=var, l=label,\n",
    "                                                                           s=season, t=t_bnds))\n",
    "        mean.to_netcdf(outpath + '/mean/' + '{v}_{l}_{s}_{t}_mean.nc'.format(v=var, l=label, \n",
    "                                                                               s=season, t=t_bnds))\n",
    "\n",
    "    t_bnds = ds.t_bnds\n",
    "    # repeat for the annual mean:\n",
    "    ds['N_members'] = len(ds.Ensemble_member.values)\n",
    "    std = ds.std(dim=['time', 'Ensemble_member'])\n",
    "    mean = ds.mean(dim=['time', 'Ensemble_member'])\n",
    "    \n",
    "    std.to_netcdf(outpath + '/std/' + '{v}_{l}_annual_{t}_std.nc'.format(v=var, l=label, \n",
    "                                                                           t=t_bnds))\n",
    "    mean.to_netcdf(outpath + '/mean/' + '{v}_{l}_annual_{t}_mean.nc'.format(v=var, l=label, \n",
    "                                                                             t=t_bnds))\n",
    "    return"
   ]
  },
  {
   "cell_type": "code",
   "execution_count": null,
   "id": "d10cdbfd-a991-49f2-af94-8870a74a844f",
   "metadata": {},
   "outputs": [],
   "source": []
  },
  {
   "cell_type": "code",
   "execution_count": 6,
   "id": "28bbd1d6-681e-4650-a65a-d7971e59b3af",
   "metadata": {},
   "outputs": [
    {
     "name": "stdout",
     "output_type": "stream",
     "text": [
      "IPSL-CM6A-LR\n"
     ]
    },
    {
     "name": "stderr",
     "output_type": "stream",
     "text": [
      "  0%|          | 0/1 [00:00<?, ?it/s]"
     ]
    },
    {
     "name": "stdout",
     "output_type": "stream",
     "text": [
      "tas\n"
     ]
    },
    {
     "name": "stderr",
     "output_type": "stream",
     "text": [
      "100%|██████████| 1/1 [00:21<00:00, 21.63s/it]\n"
     ]
    },
    {
     "name": "stdout",
     "output_type": "stream",
     "text": [
      "UKESM1-0-LL\n"
     ]
    },
    {
     "name": "stderr",
     "output_type": "stream",
     "text": [
      "  0%|          | 0/1 [00:00<?, ?it/s]"
     ]
    },
    {
     "name": "stdout",
     "output_type": "stream",
     "text": [
      "tas\n"
     ]
    },
    {
     "name": "stderr",
     "output_type": "stream",
     "text": [
      "100%|██████████| 1/1 [01:08<00:00, 68.06s/it]\n"
     ]
    },
    {
     "name": "stdout",
     "output_type": "stream",
     "text": [
      "MPI-ESM1-2-HR\n"
     ]
    },
    {
     "name": "stderr",
     "output_type": "stream",
     "text": [
      "  0%|          | 0/1 [00:00<?, ?it/s]"
     ]
    },
    {
     "name": "stdout",
     "output_type": "stream",
     "text": [
      "tas\n"
     ]
    },
    {
     "name": "stderr",
     "output_type": "stream",
     "text": [
      "100%|██████████| 1/1 [00:49<00:00, 49.72s/it]\n"
     ]
    },
    {
     "name": "stdout",
     "output_type": "stream",
     "text": [
      "MPI-ESM1-2-LR\n"
     ]
    },
    {
     "name": "stderr",
     "output_type": "stream",
     "text": [
      "  0%|          | 0/1 [00:00<?, ?it/s]"
     ]
    },
    {
     "name": "stdout",
     "output_type": "stream",
     "text": [
      "tas\n"
     ]
    },
    {
     "name": "stderr",
     "output_type": "stream",
     "text": [
      "100%|██████████| 1/1 [01:03<00:00, 63.78s/it]\n"
     ]
    },
    {
     "name": "stdout",
     "output_type": "stream",
     "text": [
      "CESM2-WACCM\n"
     ]
    },
    {
     "name": "stderr",
     "output_type": "stream",
     "text": [
      "  0%|          | 0/1 [00:00<?, ?it/s]"
     ]
    },
    {
     "name": "stdout",
     "output_type": "stream",
     "text": [
      "tas\n"
     ]
    },
    {
     "name": "stderr",
     "output_type": "stream",
     "text": [
      "/home/users/a_duffey/.conda/envs/cmipv2/lib/python3.12/site-packages/xarray/conventions.py:284: SerializationWarning: variable 'tas' has multiple fill values {np.float32(1e+20), np.float64(1e+20)} defined, decoding all values to NaN.\n",
      "  var = coder.decode(var, name=name)\n",
      "/home/users/a_duffey/.conda/envs/cmipv2/lib/python3.12/site-packages/xarray/conventions.py:284: SerializationWarning: variable 'tas' has multiple fill values {np.float32(1e+20), np.float64(1e+20)} defined, decoding all values to NaN.\n",
      "  var = coder.decode(var, name=name)\n",
      "/home/users/a_duffey/.conda/envs/cmipv2/lib/python3.12/site-packages/xarray/conventions.py:284: SerializationWarning: variable 'tas' has multiple fill values {np.float32(1e+20), np.float64(1e+20)} defined, decoding all values to NaN.\n",
      "  var = coder.decode(var, name=name)\n",
      "/home/users/a_duffey/.conda/envs/cmipv2/lib/python3.12/site-packages/xarray/conventions.py:284: SerializationWarning: variable 'tas' has multiple fill values {np.float32(1e+20), np.float64(1e+20)} defined, decoding all values to NaN.\n",
      "  var = coder.decode(var, name=name)\n",
      "/home/users/a_duffey/.conda/envs/cmipv2/lib/python3.12/site-packages/xarray/conventions.py:284: SerializationWarning: variable 'tas' has multiple fill values {np.float32(1e+20), np.float64(1e+20)} defined, decoding all values to NaN.\n",
      "  var = coder.decode(var, name=name)\n",
      "/home/users/a_duffey/.conda/envs/cmipv2/lib/python3.12/site-packages/xarray/conventions.py:284: SerializationWarning: variable 'tas' has multiple fill values {np.float32(1e+20), np.float64(1e+20)} defined, decoding all values to NaN.\n",
      "  var = coder.decode(var, name=name)\n",
      "/home/users/a_duffey/.conda/envs/cmipv2/lib/python3.12/site-packages/xarray/conventions.py:284: SerializationWarning: variable 'tas' has multiple fill values {np.float32(1e+20), np.float64(1e+20)} defined, decoding all values to NaN.\n",
      "  var = coder.decode(var, name=name)\n",
      "/home/users/a_duffey/.conda/envs/cmipv2/lib/python3.12/site-packages/xarray/conventions.py:284: SerializationWarning: variable 'tas' has multiple fill values {np.float32(1e+20), np.float64(1e+20)} defined, decoding all values to NaN.\n",
      "  var = coder.decode(var, name=name)\n",
      "/home/users/a_duffey/.conda/envs/cmipv2/lib/python3.12/site-packages/xarray/conventions.py:284: SerializationWarning: variable 'tas' has multiple fill values {np.float32(1e+20), np.float64(1e+20)} defined, decoding all values to NaN.\n",
      "  var = coder.decode(var, name=name)\n",
      "/home/users/a_duffey/.conda/envs/cmipv2/lib/python3.12/site-packages/xarray/conventions.py:284: SerializationWarning: variable 'tas' has multiple fill values {np.float32(1e+20), np.float64(1e+20)} defined, decoding all values to NaN.\n",
      "  var = coder.decode(var, name=name)\n",
      "/home/users/a_duffey/.conda/envs/cmipv2/lib/python3.12/site-packages/xarray/conventions.py:284: SerializationWarning: variable 'tas' has multiple fill values {np.float32(1e+20), np.float64(1e+20)} defined, decoding all values to NaN.\n",
      "  var = coder.decode(var, name=name)\n",
      "/home/users/a_duffey/.conda/envs/cmipv2/lib/python3.12/site-packages/xarray/conventions.py:284: SerializationWarning: variable 'tas' has multiple fill values {np.float32(1e+20), np.float64(1e+20)} defined, decoding all values to NaN.\n",
      "  var = coder.decode(var, name=name)\n",
      "/home/users/a_duffey/.conda/envs/cmipv2/lib/python3.12/site-packages/xarray/conventions.py:284: SerializationWarning: variable 'tas' has multiple fill values {np.float32(1e+20), np.float64(1e+20)} defined, decoding all values to NaN.\n",
      "  var = coder.decode(var, name=name)\n",
      "/home/users/a_duffey/.conda/envs/cmipv2/lib/python3.12/site-packages/xarray/conventions.py:284: SerializationWarning: variable 'tas' has multiple fill values {np.float32(1e+20), np.float64(1e+20)} defined, decoding all values to NaN.\n",
      "  var = coder.decode(var, name=name)\n",
      "/home/users/a_duffey/.conda/envs/cmipv2/lib/python3.12/site-packages/xarray/conventions.py:284: SerializationWarning: variable 'tas' has multiple fill values {np.float32(1e+20), np.float64(1e+20)} defined, decoding all values to NaN.\n",
      "  var = coder.decode(var, name=name)\n",
      "/home/users/a_duffey/.conda/envs/cmipv2/lib/python3.12/site-packages/xarray/conventions.py:284: SerializationWarning: variable 'tas' has multiple fill values {np.float32(1e+20), np.float64(1e+20)} defined, decoding all values to NaN.\n",
      "  var = coder.decode(var, name=name)\n",
      "/home/users/a_duffey/.conda/envs/cmipv2/lib/python3.12/site-packages/xarray/conventions.py:284: SerializationWarning: variable 'tas' has multiple fill values {np.float32(1e+20), np.float64(1e+20)} defined, decoding all values to NaN.\n",
      "  var = coder.decode(var, name=name)\n",
      "/home/users/a_duffey/.conda/envs/cmipv2/lib/python3.12/site-packages/xarray/conventions.py:284: SerializationWarning: variable 'tas' has multiple fill values {np.float32(1e+20), np.float64(1e+20)} defined, decoding all values to NaN.\n",
      "  var = coder.decode(var, name=name)\n",
      "/home/users/a_duffey/.conda/envs/cmipv2/lib/python3.12/site-packages/xarray/conventions.py:284: SerializationWarning: variable 'tas' has multiple fill values {np.float32(1e+20), np.float64(1e+20)} defined, decoding all values to NaN.\n",
      "  var = coder.decode(var, name=name)\n",
      "/home/users/a_duffey/.conda/envs/cmipv2/lib/python3.12/site-packages/xarray/conventions.py:284: SerializationWarning: variable 'tas' has multiple fill values {np.float32(1e+20), np.float64(1e+20)} defined, decoding all values to NaN.\n",
      "  var = coder.decode(var, name=name)\n",
      "/home/users/a_duffey/.conda/envs/cmipv2/lib/python3.12/site-packages/xarray/conventions.py:284: SerializationWarning: variable 'tas' has multiple fill values {np.float32(1e+20), np.float64(1e+20)} defined, decoding all values to NaN.\n",
      "  var = coder.decode(var, name=name)\n",
      "/home/users/a_duffey/.conda/envs/cmipv2/lib/python3.12/site-packages/xarray/conventions.py:284: SerializationWarning: variable 'tas' has multiple fill values {np.float32(1e+20), np.float64(1e+20)} defined, decoding all values to NaN.\n",
      "  var = coder.decode(var, name=name)\n",
      "/home/users/a_duffey/.conda/envs/cmipv2/lib/python3.12/site-packages/xarray/conventions.py:284: SerializationWarning: variable 'tas' has multiple fill values {np.float32(1e+20), np.float64(1e+20)} defined, decoding all values to NaN.\n",
      "  var = coder.decode(var, name=name)\n",
      "/home/users/a_duffey/.conda/envs/cmipv2/lib/python3.12/site-packages/xarray/conventions.py:284: SerializationWarning: variable 'tas' has multiple fill values {np.float32(1e+20), np.float64(1e+20)} defined, decoding all values to NaN.\n",
      "  var = coder.decode(var, name=name)\n",
      "/home/users/a_duffey/.conda/envs/cmipv2/lib/python3.12/site-packages/xarray/conventions.py:284: SerializationWarning: variable 'tas' has multiple fill values {np.float32(1e+20), np.float64(1e+20)} defined, decoding all values to NaN.\n",
      "  var = coder.decode(var, name=name)\n",
      "/home/users/a_duffey/.conda/envs/cmipv2/lib/python3.12/site-packages/xarray/conventions.py:284: SerializationWarning: variable 'tas' has multiple fill values {np.float32(1e+20), np.float64(1e+20)} defined, decoding all values to NaN.\n",
      "  var = coder.decode(var, name=name)\n",
      "/home/users/a_duffey/.conda/envs/cmipv2/lib/python3.12/site-packages/xarray/conventions.py:284: SerializationWarning: variable 'tas' has multiple fill values {np.float32(1e+20), np.float64(1e+20)} defined, decoding all values to NaN.\n",
      "  var = coder.decode(var, name=name)\n",
      "/home/users/a_duffey/.conda/envs/cmipv2/lib/python3.12/site-packages/xarray/conventions.py:284: SerializationWarning: variable 'tas' has multiple fill values {np.float32(1e+20), np.float64(1e+20)} defined, decoding all values to NaN.\n",
      "  var = coder.decode(var, name=name)\n",
      "/home/users/a_duffey/.conda/envs/cmipv2/lib/python3.12/site-packages/xarray/conventions.py:284: SerializationWarning: variable 'tas' has multiple fill values {np.float32(1e+20), np.float64(1e+20)} defined, decoding all values to NaN.\n",
      "  var = coder.decode(var, name=name)\n",
      "/home/users/a_duffey/.conda/envs/cmipv2/lib/python3.12/site-packages/xarray/conventions.py:284: SerializationWarning: variable 'tas' has multiple fill values {np.float32(1e+20), np.float64(1e+20)} defined, decoding all values to NaN.\n",
      "  var = coder.decode(var, name=name)\n",
      "/home/users/a_duffey/.conda/envs/cmipv2/lib/python3.12/site-packages/xarray/conventions.py:284: SerializationWarning: variable 'tas' has multiple fill values {np.float32(1e+20), np.float64(1e+20)} defined, decoding all values to NaN.\n",
      "  var = coder.decode(var, name=name)\n",
      "/home/users/a_duffey/.conda/envs/cmipv2/lib/python3.12/site-packages/xarray/conventions.py:284: SerializationWarning: variable 'tas' has multiple fill values {np.float32(1e+20), np.float64(1e+20)} defined, decoding all values to NaN.\n",
      "  var = coder.decode(var, name=name)\n",
      "/home/users/a_duffey/.conda/envs/cmipv2/lib/python3.12/site-packages/xarray/conventions.py:284: SerializationWarning: variable 'tas' has multiple fill values {np.float32(1e+20), np.float64(1e+20)} defined, decoding all values to NaN.\n",
      "  var = coder.decode(var, name=name)\n",
      "/home/users/a_duffey/.conda/envs/cmipv2/lib/python3.12/site-packages/xarray/conventions.py:284: SerializationWarning: variable 'tas' has multiple fill values {np.float32(1e+20), np.float64(1e+20)} defined, decoding all values to NaN.\n",
      "  var = coder.decode(var, name=name)\n",
      "/home/users/a_duffey/.conda/envs/cmipv2/lib/python3.12/site-packages/xarray/conventions.py:284: SerializationWarning: variable 'tas' has multiple fill values {np.float32(1e+20), np.float64(1e+20)} defined, decoding all values to NaN.\n",
      "  var = coder.decode(var, name=name)\n",
      "/home/users/a_duffey/.conda/envs/cmipv2/lib/python3.12/site-packages/xarray/conventions.py:284: SerializationWarning: variable 'tas' has multiple fill values {np.float32(1e+20), np.float64(1e+20)} defined, decoding all values to NaN.\n",
      "  var = coder.decode(var, name=name)\n",
      "/home/users/a_duffey/.conda/envs/cmipv2/lib/python3.12/site-packages/xarray/conventions.py:284: SerializationWarning: variable 'tas' has multiple fill values {np.float32(1e+20), np.float64(1e+20)} defined, decoding all values to NaN.\n",
      "  var = coder.decode(var, name=name)\n",
      "/home/users/a_duffey/.conda/envs/cmipv2/lib/python3.12/site-packages/xarray/conventions.py:284: SerializationWarning: variable 'tas' has multiple fill values {np.float32(1e+20), np.float64(1e+20)} defined, decoding all values to NaN.\n",
      "  var = coder.decode(var, name=name)\n",
      "/home/users/a_duffey/.conda/envs/cmipv2/lib/python3.12/site-packages/xarray/conventions.py:284: SerializationWarning: variable 'tas' has multiple fill values {np.float32(1e+20), np.float64(1e+20)} defined, decoding all values to NaN.\n",
      "  var = coder.decode(var, name=name)\n",
      "/home/users/a_duffey/.conda/envs/cmipv2/lib/python3.12/site-packages/xarray/conventions.py:284: SerializationWarning: variable 'tas' has multiple fill values {np.float32(1e+20), np.float64(1e+20)} defined, decoding all values to NaN.\n",
      "  var = coder.decode(var, name=name)\n",
      "/home/users/a_duffey/.conda/envs/cmipv2/lib/python3.12/site-packages/xarray/conventions.py:284: SerializationWarning: variable 'tas' has multiple fill values {np.float32(1e+20), np.float64(1e+20)} defined, decoding all values to NaN.\n",
      "  var = coder.decode(var, name=name)\n",
      "/home/users/a_duffey/.conda/envs/cmipv2/lib/python3.12/site-packages/xarray/conventions.py:284: SerializationWarning: variable 'tas' has multiple fill values {np.float32(1e+20), np.float64(1e+20)} defined, decoding all values to NaN.\n",
      "  var = coder.decode(var, name=name)\n",
      "/home/users/a_duffey/.conda/envs/cmipv2/lib/python3.12/site-packages/xarray/conventions.py:284: SerializationWarning: variable 'tas' has multiple fill values {np.float32(1e+20), np.float64(1e+20)} defined, decoding all values to NaN.\n",
      "  var = coder.decode(var, name=name)\n",
      "/home/users/a_duffey/.conda/envs/cmipv2/lib/python3.12/site-packages/xarray/conventions.py:284: SerializationWarning: variable 'tas' has multiple fill values {np.float32(1e+20), np.float64(1e+20)} defined, decoding all values to NaN.\n",
      "  var = coder.decode(var, name=name)\n",
      "/home/users/a_duffey/.conda/envs/cmipv2/lib/python3.12/site-packages/xarray/conventions.py:284: SerializationWarning: variable 'tas' has multiple fill values {np.float32(1e+20), np.float64(1e+20)} defined, decoding all values to NaN.\n",
      "  var = coder.decode(var, name=name)\n",
      "/home/users/a_duffey/.conda/envs/cmipv2/lib/python3.12/site-packages/xarray/conventions.py:284: SerializationWarning: variable 'tas' has multiple fill values {np.float32(1e+20), np.float64(1e+20)} defined, decoding all values to NaN.\n",
      "  var = coder.decode(var, name=name)\n",
      "/home/users/a_duffey/.conda/envs/cmipv2/lib/python3.12/site-packages/xarray/conventions.py:284: SerializationWarning: variable 'tas' has multiple fill values {np.float32(1e+20), np.float64(1e+20)} defined, decoding all values to NaN.\n",
      "  var = coder.decode(var, name=name)\n",
      "/home/users/a_duffey/.conda/envs/cmipv2/lib/python3.12/site-packages/xarray/conventions.py:284: SerializationWarning: variable 'tas' has multiple fill values {np.float32(1e+20), np.float64(1e+20)} defined, decoding all values to NaN.\n",
      "  var = coder.decode(var, name=name)\n",
      "/home/users/a_duffey/.conda/envs/cmipv2/lib/python3.12/site-packages/xarray/conventions.py:284: SerializationWarning: variable 'tas' has multiple fill values {np.float32(1e+20), np.float64(1e+20)} defined, decoding all values to NaN.\n",
      "  var = coder.decode(var, name=name)\n",
      "/home/users/a_duffey/.conda/envs/cmipv2/lib/python3.12/site-packages/xarray/conventions.py:284: SerializationWarning: variable 'tas' has multiple fill values {np.float32(1e+20), np.float64(1e+20)} defined, decoding all values to NaN.\n",
      "  var = coder.decode(var, name=name)\n",
      "100%|██████████| 1/1 [01:03<00:00, 63.25s/it]\n"
     ]
    },
    {
     "name": "stdout",
     "output_type": "stream",
     "text": [
      "CNRM-ESM2-1\n"
     ]
    },
    {
     "name": "stderr",
     "output_type": "stream",
     "text": [
      "  0%|          | 0/1 [00:00<?, ?it/s]"
     ]
    },
    {
     "name": "stdout",
     "output_type": "stream",
     "text": [
      "tas\n"
     ]
    },
    {
     "name": "stderr",
     "output_type": "stream",
     "text": [
      "100%|██████████| 1/1 [00:45<00:00, 45.11s/it]\n"
     ]
    }
   ],
   "source": [
    "# MAIN\n",
    "for model in models:\n",
    "    print(model)\n",
    "    for var in tqdm(vars_dict.keys()):\n",
    "    \n",
    "        print(var)\n",
    "        # get data\n",
    "        ds_ssp245 = get_data_ssp_G6(model=model, scenario='ssp245',\n",
    "                                    variable=var, table=vars_dict[var])\n",
    "        ds_ssp585 = get_data_ssp_G6(model=model, scenario='ssp585',\n",
    "                                    variable=var, table=vars_dict[var])\n",
    "        ds_G6sulfur = get_data_ssp_G6(model=model, scenario='G6sulfur',\n",
    "                                    variable=var, table=vars_dict[var])\n",
    "        \n",
    "        ds_ssp245_seasonal = ds_ssp245.resample(time=\"QS-DEC\").mean()\n",
    "        ds_ssp585_seasonal = ds_ssp585.resample(time=\"QS-DEC\").mean()\n",
    "        ds_G6sulfur_seasonal = ds_G6sulfur.resample(time=\"QS-DEC\").mean()\n",
    "    \n",
    "        # process into time slice means:\n",
    "        ssp245_baseline, ssp245_baseline_seasonal = get_time_period(ds_ssp245, 'Baseline'), get_time_period(ds_ssp245_seasonal, 'Baseline')\n",
    "        ssp585_background, ssp585_background_seasonal = get_time_period(ds_ssp585, 'Future'), get_time_period(ds_ssp585_seasonal, 'Future')\n",
    "        ssp245_target, ssp245_target_seasonal = get_time_period(ds_ssp245, 'Future'), get_time_period(ds_ssp245_seasonal, 'Future')\n",
    "        G6sulfur_assmt, G6sulfur_assmt_seasonal = get_time_period(ds_G6sulfur, 'Future'), get_time_period(ds_G6sulfur_seasonal, 'Future')\n",
    "\n",
    "\n",
    "        \n",
    "        process_and_save_maps(ssp245_baseline, ssp245_baseline_seasonal, \n",
    "                              var=var, table='Amon', \n",
    "                              label='SSP245_baseline', seasons=seasons)\n",
    "        process_and_save_maps(ssp585_background, ssp585_background_seasonal, \n",
    "                              var=var, table='Amon', \n",
    "                              label='SSP585_background', seasons=seasons)\n",
    "        process_and_save_maps(ssp245_target, ssp245_target_seasonal, \n",
    "                              var=var, table='Amon', \n",
    "                              label='SSP245_target', seasons=seasons)\n",
    "        process_and_save_maps(G6sulfur_assmt, G6sulfur_assmt_seasonal, \n",
    "                              var=var, table='Amon', \n",
    "                              label='G6sulfur_assmt', seasons=seasons)\n",
    "        "
   ]
  },
  {
   "cell_type": "code",
   "execution_count": null,
   "id": "b9a8ef51-4991-4f86-b2d5-4c80fbe46f74",
   "metadata": {},
   "outputs": [],
   "source": []
  },
  {
   "cell_type": "code",
   "execution_count": null,
   "id": "d38df83d-86f4-436b-9881-765dc0bda129",
   "metadata": {},
   "outputs": [],
   "source": []
  },
  {
   "cell_type": "code",
   "execution_count": null,
   "id": "e9c9d6eb-0a57-4115-a895-3184a8b0325d",
   "metadata": {},
   "outputs": [],
   "source": []
  }
 ],
 "metadata": {
  "kernelspec": {
   "display_name": "cmipv2",
   "language": "python",
   "name": "cmipv2"
  },
  "language_info": {
   "codemirror_mode": {
    "name": "ipython",
    "version": 3
   },
   "file_extension": ".py",
   "mimetype": "text/x-python",
   "name": "python",
   "nbconvert_exporter": "python",
   "pygments_lexer": "ipython3",
   "version": "3.12.6"
  }
 },
 "nbformat": 4,
 "nbformat_minor": 5
}
